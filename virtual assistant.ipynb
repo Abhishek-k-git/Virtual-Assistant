{
 "cells": [
  {
   "cell_type": "code",
   "execution_count": 1,
   "metadata": {},
   "outputs": [],
   "source": [
    "#pip install SpeechRecognition\n",
    "#pip install PyAudio\n",
    "#pip install gTTS\n",
    "#pip install wikipedia"
   ]
  },
  {
   "cell_type": "markdown",
   "metadata": {},
   "source": [
    "## Import important liabraries"
   ]
  },
  {
   "cell_type": "code",
   "execution_count": 2,
   "metadata": {},
   "outputs": [],
   "source": [
    "import speech_recognition as sr\n",
    "from gtts import gTTS\n",
    "import os\n",
    "import wikipedia"
   ]
  },
  {
   "cell_type": "code",
   "execution_count": 3,
   "metadata": {},
   "outputs": [],
   "source": [
    "import datetime\n",
    "import calendar\n",
    "import random\n",
    "import warnings"
   ]
  },
  {
   "cell_type": "code",
   "execution_count": 4,
   "metadata": {},
   "outputs": [],
   "source": [
    "warnings.filterwarnings('ignore')"
   ]
  },
  {
   "cell_type": "markdown",
   "metadata": {},
   "source": [
    "\n",
    "## Defining Important functions"
   ]
  },
  {
   "cell_type": "code",
   "execution_count": 5,
   "metadata": {},
   "outputs": [],
   "source": [
    "def audio_recog():\n",
    "    r= sr.Recognizer()\n",
    "    with sr.Microphone() as source:\n",
    "        print('Say')\n",
    "        audio= r.listen(source)\n",
    "        data= ''\n",
    "        try:\n",
    "            data= r.recognize_google(audio)\n",
    "            print('you:'+ data)\n",
    "        except sr.UnknownValueError:\n",
    "            print('unknown error')\n",
    "        except sr.RequestError as err:\n",
    "            print('Error:'+ err)\n",
    "        return data"
   ]
  },
  {
   "cell_type": "code",
   "execution_count": 6,
   "metadata": {},
   "outputs": [],
   "source": [
    "#My testing\n",
    "#audio_recog()"
   ]
  },
  {
   "cell_type": "code",
   "execution_count": 7,
   "metadata": {},
   "outputs": [],
   "source": [
    "def play_audio(input):\n",
    "    audio= gTTS(text= input, lang= 'en', slow='False')\n",
    "    audio.save('audio.mp3')\n",
    "    os.system('start  audio.mp3')\n",
    "    print('done')"
   ]
  },
  {
   "cell_type": "code",
   "execution_count": 8,
   "metadata": {},
   "outputs": [],
   "source": [
    "#My testing\n",
    "#assis_response('This is for, testing!')"
   ]
  },
  {
   "cell_type": "code",
   "execution_count": 9,
   "metadata": {},
   "outputs": [],
   "source": [
    "def wake(input):\n",
    "    wake_phrases= ['jarvis','hey']\n",
    "    input= input.lower()\n",
    "    for key in wake_phrases:\n",
    "        if key in input:\n",
    "            return True\n",
    "    return False"
   ]
  },
  {
   "cell_type": "code",
   "execution_count": 10,
   "metadata": {},
   "outputs": [],
   "source": [
    "# wake('ok google')"
   ]
  },
  {
   "cell_type": "code",
   "execution_count": 20,
   "metadata": {},
   "outputs": [
    {
     "data": {
      "text/plain": [
       "'Today is Saturday 17th october, 2020'"
      ]
     },
     "execution_count": 20,
     "metadata": {},
     "output_type": "execute_result"
    }
   ],
   "source": [
    "def get_date():\n",
    "    now = datetime.datetime.now()\n",
    "    weekday = calendar.day_name[now.weekday()]\n",
    "    day = now.day\n",
    "    month = now.month\n",
    "    year = str(now.year)\n",
    "    \n",
    "    month_names = ['january','february','march','april','may','june','july','august','september','october','november','december']\n",
    "    date_number = ['1st', '2nd', '3rd', '4th', '5th', '6th', '7th', '8th', '9th', '10th',\n",
    "                    '11th', '12th', '13th', '14th', '15th', '16th', '17th', '18th', '19th', '20th',\n",
    "                    '21st', '22nd', '23rd', '24th', '25th', '26th', '27th', '28th', '29th', '30th']\n",
    "    return 'Today is '+ weekday+' ' +date_number[day-1]+' '+ month_names[month-1]+', '+ year\n",
    "#get_date()"
   ]
  },
  {
   "cell_type": "code",
   "execution_count": 21,
   "metadata": {},
   "outputs": [
    {
     "data": {
      "text/plain": [
       "'Time is: 8:14:30'"
      ]
     },
     "execution_count": 21,
     "metadata": {},
     "output_type": "execute_result"
    }
   ],
   "source": [
    "def get_time():\n",
    "    now = datetime.datetime.now()\n",
    "    \n",
    "    set_meridiem = ''\n",
    "    if now.hour > 12:\n",
    "        set_meridiem = 'p.m'\n",
    "        hour = str(now.hour - 12)\n",
    "    else:\n",
    "        set_meridiem = 'a.m'\n",
    "        hour = str(now.hour)\n",
    "        \n",
    "    if now.minute < 10:\n",
    "        minute = '0'+ str(now.minute)\n",
    "    else:\n",
    "        minute = str(now.minute)\n",
    "        \n",
    "    if now.second < 10:\n",
    "        second = '0'+ str(now.second)\n",
    "    else:\n",
    "        second = str(now.second)\n",
    "    \n",
    "    return 'Time is: '+ hour+':'+minute+':'+second\n",
    "#get_time()"
   ]
  },
  {
   "cell_type": "code",
   "execution_count": 13,
   "metadata": {},
   "outputs": [],
   "source": [
    "def greeting(input):\n",
    "    greeting_input = ['hello','hey','hola','namastey','hi watsup']\n",
    "    greeting_output = ['hello','hey','hola','namastey','hi watsup']\n",
    "    #input = input.lower()\n",
    "    for key in input.split():\n",
    "        if key.lower() in greeting_input:\n",
    "            return random.choice(greeting_output)\n",
    "    return ''"
   ]
  },
  {
   "cell_type": "code",
   "execution_count": 14,
   "metadata": {},
   "outputs": [],
   "source": [
    "#greeting('hi')"
   ]
  },
  {
   "cell_type": "code",
   "execution_count": 15,
   "metadata": {},
   "outputs": [],
   "source": [
    "def get_person(input):\n",
    "    name = ''\n",
    "    #input = input.split()\n",
    "    for i in range(0,len(input)-1): # i+3 <= len(input)-1\n",
    "        if input[i].lower()=='who' and input[i+1].lower()=='is':\n",
    "            if len(input)-1 >= (i+2):    \n",
    "                name = name+ input[i+2]#+' '+ input[i+3]\n",
    "            if len(input)-1 >= (i+3):\n",
    "                name = name +' '+ input[i+3]\n",
    "            return name"
   ]
  },
  {
   "cell_type": "code",
   "execution_count": 16,
   "metadata": {},
   "outputs": [],
   "source": [
    "#get_person('hey who is albert einstein')"
   ]
  },
  {
   "cell_type": "markdown",
   "metadata": {},
   "source": [
    "## Execution"
   ]
  },
  {
   "cell_type": "code",
   "execution_count": 25,
   "metadata": {},
   "outputs": [
    {
     "name": "stdout",
     "output_type": "stream",
     "text": [
      "['hey', 'what', 'is', 'date,', 'what', 'is', 'time,', 'bye']\n",
      " namastey Today is Saturday 17th october, 2020 Time is: 8:16:50 \n"
     ]
    }
   ],
   "source": [
    "ask = True\n",
    "while ask == True:\n",
    "    input = audio_recog() \n",
    "    input = input.split()\n",
    "    print(input)\n",
    "    output = ' '\n",
    "    for i in range(len(input)):\n",
    "        input[i] = input[i].lower()\n",
    "        #print('input : '+input[i])\n",
    "        \n",
    "        if wake(input[i])==True:\n",
    "            output = output + greeting(input[i]) +' '\n",
    "            \n",
    "            if 'date' in input or 'date,' in input:\n",
    "                current_date = get_date()\n",
    "                output = output + current_date+' '\n",
    "            \n",
    "            if 'time' in input or 'time,' in input:\n",
    "                time = get_time()\n",
    "                output = output + time +' '\n",
    "            \n",
    "            if 'who' in input and 'is' in input:\n",
    "                person = get_person(input)\n",
    "                #output = output + person\n",
    "                wiki = wikipedia.summary(person, sentences = 3)\n",
    "                output = output + wiki\n",
    "                \n",
    "            if 'close' in input or 'bye' in input:\n",
    "                ask = False\n",
    "            \n",
    "    \n",
    "    print(output)"
   ]
  },
  {
   "cell_type": "code",
   "execution_count": null,
   "metadata": {},
   "outputs": [],
   "source": []
  }
 ],
 "metadata": {
  "kernelspec": {
   "display_name": "Python 3",
   "language": "python",
   "name": "python3"
  },
  "language_info": {
   "codemirror_mode": {
    "name": "ipython",
    "version": 3
   },
   "file_extension": ".py",
   "mimetype": "text/x-python",
   "name": "python",
   "nbconvert_exporter": "python",
   "pygments_lexer": "ipython3",
   "version": "3.7.6"
  }
 },
 "nbformat": 4,
 "nbformat_minor": 4
}
